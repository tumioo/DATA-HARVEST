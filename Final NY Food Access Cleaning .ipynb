{
 "cells": [
  {
   "cell_type": "markdown",
   "metadata": {},
   "source": [
    "Cleaning Steps\n",
    "1. Split Tract Data with right function prior to importing in Excel\n",
    "2. Select only NY records prior to importing\n",
    "3. Select Saratoga County Records\n",
    "4. Select columns required for analysis\n",
    "\n"
   ]
  },
  {
   "cell_type": "markdown",
   "metadata": {},
   "source": [
    "Matplotlib is not sufficient to handle Geo data\n",
    "1. Python required many external libraries and dependencies to handle shape data\n",
    "2. The high number of external dependencies required for mapping meant that the virtual environments were even more difficult to manage\n",
    "3. Conda Notebook helps better manage the dynamic environments required for mapping and it made tmanaging my multiple environments much easier on Jupyter Notebook\n",
    "4. Python packages required Unix, C+, R and other languages I was not as familiar with, so being a good data scientist requires you to get up to speed with working knowledge on a lot of applications specific to the task so that you can be flexible"
   ]
  },
  {
   "cell_type": "code",
   "execution_count": null,
   "metadata": {},
   "outputs": [],
   "source": [
    "import pandas as pd\n",
    "import numpy as np"
   ]
  },
  {
   "cell_type": "code",
   "execution_count": null,
   "metadata": {
    "scrolled": true
   },
   "outputs": [],
   "source": [
    "NY_df = pd.read_csv('NYCensusTracts.csv')\n",
    "NY_df.head()\n",
    "\n",
    "#NYTractsdf"
   ]
  },
  {
   "cell_type": "code",
   "execution_count": null,
   "metadata": {},
   "outputs": [],
   "source": [
    "# Select all cases where county = \"Saratoga\"\n",
    "NYSar = NY_df[(NY_df['County'] == \"Saratoga\")]\n",
    "\n",
    "NYSar.head()"
   ]
  },
  {
   "cell_type": "code",
   "execution_count": null,
   "metadata": {
    "scrolled": true
   },
   "outputs": [],
   "source": [
    "# Create a dataframe with select columns\n",
    "SarTracts_df = pd.DataFrame(NYSar, columns = [\"CensusTract\",\"TRACT\",\"State\",\"County\",\n",
    "                                              \"lapophalf\", \"lalowihalf\", \"lapop10\", \"lalowi10\",\n",
    "                                              \"lalowi1\",\"POP2010\"])\n",
    "SarTracts_df.head()\n"
   ]
  },
  {
   "cell_type": "code",
   "execution_count": null,
   "metadata": {},
   "outputs": [],
   "source": [
    "# Create a dataframe with one value for qcut\n",
    "Decile_df = pd.DataFrame(NYSar, columns = [\"LILATracts_halfAnd10\",\n",
    "                                              \"POP2010\"])\n",
    "#Decile_df.head()"
   ]
  },
  {
   "cell_type": "code",
   "execution_count": null,
   "metadata": {},
   "outputs": [],
   "source": [
    "SARBINS_df = pd.read_csv('SaratogaAccess.csv')\n",
    "SARBINS_df.head()\n"
   ]
  },
  {
   "cell_type": "code",
   "execution_count": null,
   "metadata": {},
   "outputs": [],
   "source": [
    "\n",
    "# select numeric columns and calculate the sums\n",
    "SarTracts_df.groupby([\"lapophalf\", \"lalowihalf\", \"lapop10\", \"lalowi10\", \"lalowi1\"]).sum()\n",
    "\n"
   ]
  },
  {
   "cell_type": "code",
   "execution_count": null,
   "metadata": {
    "scrolled": true
   },
   "outputs": [],
   "source": [
    "pd.cut(SARBINS_df.LILATRACTPEOP, 5).value_counts()\n",
    "#pd.qcut(SARBINS_df.LILATRACTPEOP, 5).value_counts()\n"
   ]
  },
  {
   "cell_type": "code",
   "execution_count": null,
   "metadata": {},
   "outputs": [],
   "source": [
    "import matplotlib.pyplot as plt"
   ]
  },
  {
   "cell_type": "code",
   "execution_count": null,
   "metadata": {},
   "outputs": [],
   "source": [
    "%matplotlib inline"
   ]
  },
  {
   "cell_type": "code",
   "execution_count": null,
   "metadata": {
    "scrolled": true
   },
   "outputs": [],
   "source": [
    "SARBINS_df.groupby(['bin'])[[\"LILATRACTPEOP\", \"POP2010\"]].sum()"
   ]
  },
  {
   "cell_type": "code",
   "execution_count": null,
   "metadata": {},
   "outputs": [],
   "source": [
    "SARBINS_df = pd.read_csv('SaratogaAccess.csv')\n",
    "SARBINS_df.head()\n"
   ]
  }
 ],
 "metadata": {
  "kernelspec": {
   "display_name": "Python [conda env:Basemap]",
   "language": "python",
   "name": "conda-env-Basemap-py"
  },
  "language_info": {
   "codemirror_mode": {
    "name": "ipython",
    "version": 2
   },
   "file_extension": ".py",
   "mimetype": "text/x-python",
   "name": "python",
   "nbconvert_exporter": "python",
   "pygments_lexer": "ipython2",
   "version": "2.7.15"
  }
 },
 "nbformat": 4,
 "nbformat_minor": 2
}
